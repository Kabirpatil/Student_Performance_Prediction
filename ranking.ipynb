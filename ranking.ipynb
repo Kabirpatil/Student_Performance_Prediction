{
 "cells": [
  {
   "cell_type": "code",
   "execution_count": 5,
   "metadata": {},
   "outputs": [],
   "source": [
    "\n",
    "# import pandas as pd\n",
    "\n",
    "# # Load the data from the CSV file\n",
    "# df = pd.read_csv('data.csv')\n",
    "\n",
    "# # Sort the data in descending order based on the 'Predicted CGPA' column\n",
    "# df = df.sort_values(by='Predicted CGPA', ascending=False)\n",
    "\n",
    "# # Add a new column to hold the rank\n",
    "# df['Rank'] = range(1, len(df) + 1)\n",
    "\n",
    "# # Display the ranked data\n",
    "# print(df)\n"
   ]
  },
  {
   "cell_type": "code",
   "execution_count": 6,
   "metadata": {},
   "outputs": [],
   "source": [
    "import pandas as pd\n",
    "\n",
    "# Load the data from the CSV file\n",
    "df = pd.read_csv('data.csv')\n",
    "\n",
    "# Sort the data in descending order based on the 'Predicted CGPA' column\n",
    "df = df.sort_values(by='Predicted CGPA', ascending=False)\n",
    "\n",
    "# Assign ranks based on predicted CGPA, handling ties by assigning the same rank\n",
    "df['Rank'] = df['Predicted CGPA'].rank(method='dense', ascending=False).astype(int)\n",
    "\n",
    "# Reset the index starting from 0\n",
    "df.reset_index(drop=True, inplace=True)\n",
    "\n",
    "# Save the ranked data to a new CSV file\n",
    "df.to_csv('ranking.csv', index=False)\n"
   ]
  },
  {
   "cell_type": "code",
   "execution_count": null,
   "metadata": {},
   "outputs": [],
   "source": []
  }
 ],
 "metadata": {
  "kernelspec": {
   "display_name": "Python 3",
   "language": "python",
   "name": "python3"
  },
  "language_info": {
   "codemirror_mode": {
    "name": "ipython",
    "version": 3
   },
   "file_extension": ".py",
   "mimetype": "text/x-python",
   "name": "python",
   "nbconvert_exporter": "python",
   "pygments_lexer": "ipython3",
   "version": "3.8.0"
  }
 },
 "nbformat": 4,
 "nbformat_minor": 2
}
